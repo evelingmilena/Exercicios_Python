{
 "cells": [
  {
   "cell_type": "code",
   "execution_count": null,
   "id": "43263bed",
   "metadata": {
    "collapsed": true
   },
   "outputs": [],
   "source": [
    "import sqlite3"
   ]
  },
  {
   "cell_type": "code",
   "execution_count": 9,
   "id": "bcc8b312",
   "metadata": {
    "collapsed": true
   },
   "outputs": [],
   "source": [
    "#criando um banco de dados\n",
    "conexao = sqlite3.connect('Banco_de_Dados')"
   ]
  },
  {
   "cell_type": "code",
   "execution_count": 10,
   "id": "074696ff",
   "metadata": {
    "collapsed": true
   },
   "outputs": [],
   "source": [
    "#apontar para o banco\n",
    "cursor = conexao.cursor()"
   ]
  },
  {
   "cell_type": "code",
   "execution_count": null,
   "id": "6928fc8e",
   "metadata": {
    "collapsed": true
   },
   "outputs": [],
   "source": [
    "#criando uma tabela\n",
    "cursor.execute('CREATE TABLE Tabela_Dados(Data text, Nome text, Idade real)')"
   ]
  },
  {
   "cell_type": "code",
   "execution_count": null,
   "id": "896cc66c",
   "metadata": {
    "collapsed": true
   },
   "outputs": [],
   "source": [
    "#fazendo commit\n",
    "conexao.commit()"
   ]
  },
  {
   "cell_type": "code",
   "execution_count": 13,
   "id": "ea870959",
   "metadata": {
    "collapsed": true
   },
   "outputs": [
    {
     "data": {
      "text/plain": [
       "<sqlite3.Cursor at 0x1a20e305f10>"
      ]
     },
     "execution_count": 13,
     "metadata": {},
     "output_type": "execute_result"
    }
   ],
   "source": [
    "#Inserindo dados na tabela\n",
    "cursor.execute('INSERT INTO Tabela_Dados VALUES (\"24/04/1994\", \"Marcos Ribeiro Jr\", \"28\")')\n",
    "cursor.execute('INSERT INTO Tabela_Dados VALUES (\"03/07/1991\", \"Eveling Ribeiro\", \"31\")')\n",
    "cursor.execute('INSERT INTO Tabela_Dados VALUES (\"17/09/1996\", \"Thiago Gabriel\", \"26\")')\n",
    "cursor.execute('INSERT INTO Tabela_Dados VALUES (\"22/08/1992\", \"Victor Ribeiro\", \"30\")')"
   ]
  },
  {
   "cell_type": "code",
   "execution_count": 14,
   "id": "a9c908db",
   "metadata": {
    "collapsed": true
   },
   "outputs": [
    {
     "name": "stdout",
     "output_type": "stream",
     "text": [
      "[('24/04/1994', 'Marcos Ribeiro Jr', 28.0), ('03/07/1991', 'Eveling Ribeiro', 31.0), ('17/09/1996', 'Thiago Gabriel', 26.0), ('22/08/1992', 'Victor Ribeiro', 30.0)]\n"
     ]
    }
   ],
   "source": [
    "#Selecionando dados da tabela\n",
    "consulta = cursor.execute('SELECT * FROM Tabela_Dados').fetchall()\n",
    "print(consulta)"
   ]
  },
  {
   "cell_type": "code",
   "execution_count": 15,
   "id": "6d494d04",
   "metadata": {
    "collapsed": true
   },
   "outputs": [
    {
     "name": "stdout",
     "output_type": "stream",
     "text": [
      "('Marcos Ribeiro Jr', 28.0)\n",
      "('Eveling Ribeiro', 31.0)\n",
      "('Thiago Gabriel', 26.0)\n",
      "('Victor Ribeiro', 30.0)\n"
     ]
    }
   ],
   "source": [
    "#query de consultas específicas\n",
    "consulta = cursor.execute('SELECT Nome, Idade FROM Tabela_Dados').fetchall()\n",
    "for linha in consulta:\n",
    "    print(linha)"
   ]
  },
  {
   "cell_type": "code",
   "execution_count": 16,
   "id": "98342e8d",
   "metadata": {
    "collapsed": true
   },
   "outputs": [
    {
     "name": "stdout",
     "output_type": "stream",
     "text": [
      "[('24/04/1994', 'Marcos Ribeiro Jr', 28.0)]\n"
     ]
    }
   ],
   "source": [
    "#where\n",
    "consulta = cursor.execute('SELECT * FROM Tabela_Dados WHERE Nome = \"Marcos Ribeiro Jr\"').fetchall()\n",
    "print(consulta)\n"
   ]
  },
  {
   "cell_type": "code",
   "execution_count": 17,
   "id": "646ea0fc",
   "metadata": {
    "collapsed": true
   },
   "outputs": [
    {
     "name": "stdout",
     "output_type": "stream",
     "text": [
      "[('03/07/1991', 'Eveling Ribeiro', 31.0), ('22/08/1992', 'Victor Ribeiro', 30.0)]\n"
     ]
    }
   ],
   "source": [
    "#usando o >\n",
    "consulta = cursor.execute('SELECT * FROM Tabela_Dados WHERE Idade > 28').fetchall()\n",
    "print(consulta)"
   ]
  },
  {
   "cell_type": "code",
   "execution_count": null,
   "id": "870a665f",
   "metadata": {
    "collapsed": true
   },
   "outputs": [],
   "source": [
    "#usando o <\n",
    "consulta = cursor.execute('SELECT Nome FROM Tabela_Dados WHERE Idade < 30').fetchall()\n",
    "print(consulta)"
   ]
  },
  {
   "cell_type": "code",
   "execution_count": null,
   "id": "2168eb7a",
   "metadata": {
    "collapsed": true
   },
   "outputs": [],
   "source": [
    "#Usando >=\n",
    "consulta = cursor.execute('SELECT * FROM Tabela_Dados WHERE Idade >= 20').fetchall()\n",
    "print(consulta)"
   ]
  },
  {
   "cell_type": "code",
   "execution_count": null,
   "id": "f02df49f",
   "metadata": {
    "collapsed": true
   },
   "outputs": [],
   "source": [
    "#usando <=\n",
    "consulta = cursor.execute('SELECT * FROM Tabela_Dados WHERE Idade <= 30').fetchall()\n",
    "print(consulta)"
   ]
  },
  {
   "cell_type": "code",
   "execution_count": null,
   "id": "4efa42d5",
   "metadata": {
    "collapsed": true
   },
   "outputs": [],
   "source": [
    "#usando <> \n",
    "consulta = cursor.execute('SELECT * FROM Tabela_Dados WHERE Nome <> \"Carlos\"').fetchall()\n",
    "print(consulta)\n"
   ]
  },
  {
   "cell_type": "code",
   "execution_count": null,
   "id": "1934ccc7",
   "metadata": {
    "collapsed": true
   },
   "outputs": [],
   "source": [
    "#usando between\n",
    "consulta = cursor.execute('SELECT * FROM Tabela_Dados WHERE Idade BETWEEN 20 AND 30').fetchall()\n",
    "for linha in consulta:\n",
    "    print(linha)"
   ]
  },
  {
   "cell_type": "code",
   "execution_count": null,
   "id": "836b77b6",
   "metadata": {
    "collapsed": true
   },
   "outputs": [],
   "source": [
    "#procurando algo que comece com:\n",
    "consulta = cursor.execute('SELECT * FROM Tabela_Dados WHERE Nome LIKE \"M%\"').fetchall()\n",
    "for linha in consulta:\n",
    "    print(linha)"
   ]
  },
  {
   "cell_type": "code",
   "execution_count": null,
   "id": "f57b2872",
   "metadata": {
    "collapsed": true
   },
   "outputs": [],
   "source": [
    "#procurando por algo que termine com:\n",
    "consulta = cursor.execute('SELECT * FROM Tabela_Dados WHERE Nome LIKE \"%o\"').fetchall()\n",
    "for linha in consulta:\n",
    "    print(linha)"
   ]
  },
  {
   "cell_type": "code",
   "execution_count": null,
   "id": "ed035940",
   "metadata": {
    "collapsed": true
   },
   "outputs": [],
   "source": [
    "#procurando por algo que tenha o padrão:\n",
    "consulta = cursor.execute('SELECT * FROM Tabela_Dados WHERE Nome LIKE \"%rc%\"').fetchall()\n",
    "for linha in consulta:\n",
    "    print(linha)"
   ]
  },
  {
   "cell_type": "code",
   "execution_count": null,
   "id": "6f3e4945",
   "metadata": {
    "collapsed": true
   },
   "outputs": [],
   "source": [
    "#procurando algo com o IN\n",
    "consulta = cursor.execute('SELECT * FROM Tabela_Dados WHERE Idade IN (20,25,30)').fetchall()\n",
    "for linha in consulta:\n",
    "    print(linha)"
   ]
  },
  {
   "cell_type": "code",
   "execution_count": null,
   "id": "0497b7f1",
   "metadata": {
    "collapsed": true
   },
   "outputs": [],
   "source": [
    "#procurando algo com IN\n",
    "consulta = cursor.execute('SELECT * FROM Tabela_Dados WHERE Nome IN (\"Victor Ribeiro\")').fetchall()\n",
    "for linha in consulta:\n",
    "    print(linha)"
   ]
  },
  {
   "cell_type": "code",
   "execution_count": null,
   "id": "050f82f7",
   "metadata": {
    "collapsed": true
   },
   "outputs": [],
   "source": [
    "#and, or, not\n",
    "consulta = cursor.execute('SELECT * FROM Tabela_Dados WHERE Idade = 26 AND Nome = \"Thiago Gabriel\"').fetchall()\n",
    "for linha in consulta:\n",
    "    print(linha)\n"
   ]
  },
  {
   "cell_type": "code",
   "execution_count": null,
   "id": "32090fb7",
   "metadata": {
    "collapsed": true
   },
   "outputs": [],
   "source": [
    "consulta = cursor.execute('SELECT * FROM Tabela_Dados WHERE Idade = 31 OR Nome = \"Marcos Ribeiro Jr\"').fetchall()\n",
    "for linha in consulta:\n",
    "    print(linha)"
   ]
  },
  {
   "cell_type": "code",
   "execution_count": null,
   "id": "84a29059",
   "metadata": {
    "collapsed": true
   },
   "outputs": [],
   "source": [
    "consulta = cursor.execute('SELECT * FROM Tabela_Dados WHERE NOT Nome = \"Eveling Ribeiro\"').fetchall()\n",
    "for linha in consulta:\n",
    "    print(linha)"
   ]
  },
  {
   "cell_type": "code",
   "execution_count": null,
   "id": "346de338",
   "metadata": {
    "collapsed": true
   },
   "outputs": [],
   "source": [
    "#combinacao de parâmetros and, or, not\n",
    "consulta = cursor.execute(\n",
    "    \"\"\"SELECT * FROM Tabela_Dados WHERE \n",
    "       Nome = 'Eveling Ribeiro' OR (Idade > 20 OR Idade < 30) AND NOT Nome = 'Thiago Gabriel'\n",
    "    \"\"\"\n",
    "                          ).fetchall()\n",
    "for linha in consulta:\n",
    "    print(linha)"
   ]
  },
  {
   "cell_type": "code",
   "execution_count": null,
   "id": "8b6eb043",
   "metadata": {
    "collapsed": true
   },
   "outputs": [],
   "source": [
    "#ordenando os valores em ordem crescente\n",
    "consulta = cursor.execute('SELECT * FROM Tabela_Dados ORDER BY Nome').fetchall()\n",
    "for linha in consulta:\n",
    "    print(linha)"
   ]
  },
  {
   "cell_type": "code",
   "execution_count": null,
   "id": "367978da",
   "metadata": {
    "collapsed": true
   },
   "outputs": [],
   "source": [
    "#ordenando os valores em ordem decrescente\n",
    "consulta = cursor.execute('SELECT * FROM Tabela_Dados ORDER BY Idade DESC').fetchall()\n",
    "for linha in consulta:\n",
    "    print(linha)"
   ]
  },
  {
   "cell_type": "code",
   "execution_count": null,
   "id": "5a6998e8",
   "metadata": {
    "collapsed": true
   },
   "outputs": [],
   "source": [
    "#preenchendo valores nulos\n",
    "cursor.execute('INSERT INTO Tabela_Dados VALUES (null, \"Silvia Diniz\", null)')"
   ]
  },
  {
   "cell_type": "code",
   "execution_count": null,
   "id": "04297bef",
   "metadata": {
    "collapsed": true
   },
   "outputs": [],
   "source": [
    "#verificando valores nulos\n",
    "consulta = cursor.execute('SELECT * FROM Tabela_Dados WHERE Idade IS NULL').fetchall()\n",
    "print(consulta)"
   ]
  },
  {
   "cell_type": "code",
   "execution_count": null,
   "id": "eb5be41e",
   "metadata": {
    "collapsed": true
   },
   "outputs": [],
   "source": [
    "#verificando os valores NÃO nulos\n",
    "consulta = cursor.execute('SELECT * FROM Tabela_Dados WHERE Idade IS NOT NULL').fetchall()\n",
    "print(consulta)"
   ]
  },
  {
   "cell_type": "code",
   "execution_count": null,
   "id": "e20434e6",
   "metadata": {
    "collapsed": true
   },
   "outputs": [],
   "source": [
    "#preenchendo valores nulos\n",
    "consulta = cursor.execute('UPDATE Tabela_Dados SET Data = \"18/03/1968\" WHERE Data IS NULL ').fetchall()"
   ]
  },
  {
   "cell_type": "code",
   "execution_count": null,
   "id": "9c415dda",
   "metadata": {
    "collapsed": true
   },
   "outputs": [],
   "source": [
    "#verificando\n",
    "consulta = cursor.execute('SELECT * FROM Tabela_Dados').fetchall()\n",
    "for linha in consulta:\n",
    "    print(linha)"
   ]
  },
  {
   "cell_type": "code",
   "execution_count": null,
   "id": "857b2456",
   "metadata": {
    "collapsed": true
   },
   "outputs": [],
   "source": [
    "#preenchendo valores nulos\n",
    "consulta = cursor.execute('UPDATE Tabela_Dados SET Idade = 54 WHERE Idade IS NULL').fetchall()"
   ]
  },
  {
   "cell_type": "code",
   "execution_count": null,
   "id": "b7dc6b12",
   "metadata": {
    "collapsed": true
   },
   "outputs": [],
   "source": [
    "#verificando\n",
    "consulta = cursor.execute('SELECT * FROM Tabela_Dados').fetchall()\n",
    "for linha in consulta:\n",
    "    print(linha)"
   ]
  },
  {
   "cell_type": "code",
   "execution_count": null,
   "id": "811b8b38",
   "metadata": {
    "collapsed": true
   },
   "outputs": [],
   "source": [
    "#Delete\n",
    "consulta = cursor.execute('DELETE FROM Tabela_Dados WHERE Nome = \"Silvia Diniz\"').fetchall()"
   ]
  },
  {
   "cell_type": "code",
   "execution_count": null,
   "id": "08acf936",
   "metadata": {
    "collapsed": true
   },
   "outputs": [],
   "source": [
    "#verificando\n",
    "consulta = cursor.execute('SELECT * FROM Tabela_Dados').fetchall()\n",
    "for linha in consulta:\n",
    "    print(linha)"
   ]
  },
  {
   "cell_type": "code",
   "execution_count": null,
   "id": "387755f8",
   "metadata": {
    "collapsed": true
   },
   "outputs": [],
   "source": [
    "#select top\n",
    "consulta = cursor.execute('SELECT * FROM Tabela_Dados LIMIT 2').fetchall()\n",
    "for linha in consulta:\n",
    "    print(linha)"
   ]
  },
  {
   "cell_type": "code",
   "execution_count": null,
   "id": "2cc0f7de",
   "metadata": {
    "collapsed": true
   },
   "outputs": [],
   "source": [
    "#min and max\n",
    "menor_idade = cursor.execute('SELECT MIN (Idade) FROM Tabela_Dados').fetchall()\n",
    "maior_idade = cursor.execute('SELECT MAX (Idade) FROM Tabela_Dados').fetchall()\n",
    "print(menor_idade)\n",
    "print(maior_idade)"
   ]
  },
  {
   "cell_type": "code",
   "execution_count": null,
   "id": "0f0d5d20",
   "metadata": {
    "collapsed": true
   },
   "outputs": [],
   "source": [
    "#Count, AVG e Sum\n",
    "\"\"\"\n",
    "A COUNT()função retorna o número de linhas que corresponde a um critério especificado.\n",
    "\n",
    "A AVG()função retorna o valor médio de uma coluna numérica.\n",
    "\n",
    "A SUM()função retorna a soma total de uma coluna numérica.\n",
    "\n",
    "\"\"\"\n",
    "#count\n",
    "consulta = cursor.execute('SELECT COUNT (Idade) FROM Tabela_Dados').fetchall()\n",
    "print(consulta)"
   ]
  },
  {
   "cell_type": "code",
   "execution_count": null,
   "id": "49c26336",
   "metadata": {
    "collapsed": true
   },
   "outputs": [],
   "source": [
    "#AVG\n",
    "consulta = cursor.execute('SELECT AVG (Idade) FROM Tabela_Dados').fetchall()\n",
    "print(consulta)"
   ]
  },
  {
   "cell_type": "code",
   "execution_count": null,
   "id": "5d0a5435",
   "metadata": {
    "collapsed": true
   },
   "outputs": [],
   "source": [
    "consulta = cursor.execute('SELECT SUM (Idade) FROM Tabela_Dados').fetchall()\n",
    "print(consulta)"
   ]
  },
  {
   "cell_type": "code",
   "execution_count": null,
   "id": "66b59e18",
   "metadata": {
    "collapsed": true
   },
   "outputs": [],
   "source": [
    "#Aliases\n",
    "\"\"\"\n",
    "Os aliases SQL são usados para fornecer um nome temporário a uma tabela ou coluna em uma tabela.\n",
    "\n",
    "Os aliases são frequentemente usados para tornar os nomes das colunas mais legíveis.\n",
    "\n",
    "Um alias existe apenas durante essa consulta.\n",
    "\n",
    "Um alias é criado com a palavra AS chave.\n",
    "\n",
    "\"\"\"\n",
    "\n",
    "consulta = cursor.execute('SELECT Nome AS Cadastro_Pessoas FROM Tabela_Dados').fetchall()\n",
    "print(consulta)"
   ]
  },
  {
   "cell_type": "code",
   "execution_count": 32,
   "id": "bf06fc89",
   "metadata": {
    "collapsed": true
   },
   "outputs": [],
   "source": [
    "#joins\n",
    "\"\"\"\n",
    "Uma JOIN cláusula é usada para combinar linhas de duas ou mais tabelas, com base em uma coluna relacionada entre elas.\n",
    "\n",
    "Aqui estão os diferentes tipos de JOINs no SQL:\n",
    "\n",
    "(INNER) JOIN: Retorna registros que possuem valores correspondentes em ambas as tabelas\n",
    "LEFT (OUTER) JOIN: Retorna todos os registros da tabela da esquerda e os registros correspondentes da tabela da direita\n",
    "RIGHT (OUTER) JOIN: Retorna todos os registros da tabela da direita e os registros correspondentes da tabela da esquerda\n",
    "FULL (OUTER) JOIN: Retorna todos os registros quando há uma correspondência na tabela esquerda ou direita\n",
    "\"\"\"\n",
    "#### --- ID do Vendedor e valor de venda dele\n",
    "consulta = cursor.execute(\n",
    "    '''\n",
    "    CREATE TABLE Tabela_Vendas (id real, valor real)\n",
    "    '''\n",
    ")\n",
    "#criando a tabela\n",
    "conexao.commit()"
   ]
  },
  {
   "cell_type": "code",
   "execution_count": 37,
   "id": "12e4d527",
   "metadata": {},
   "outputs": [],
   "source": [
    "#### --- Dados Cadastrais dos vendedores\n",
    "consulta = cursor.execute(\n",
    "    '''\n",
    "    CREATE TABLE Tabela_Cadastro (id real, nome text)\n",
    "    '''\n",
    ")\n",
    "\n",
    "conexao.commit()"
   ]
  },
  {
   "cell_type": "code",
   "execution_count": 33,
   "id": "bfd1f1c0",
   "metadata": {},
   "outputs": [],
   "source": [
    "#venda dos vendedores\n",
    "consulta = cursor.execute(''' INSERT INTO Tabela_Vendas VALUES (1, 100)''')\n",
    "consulta = cursor.execute(''' INSERT INTO Tabela_Vendas VALUES (1, 200)''')\n",
    "consulta = cursor.execute(''' INSERT INTO Tabela_Vendas VALUES (1, 150)''')\n",
    "\n",
    "consulta = cursor.execute(''' INSERT INTO Tabela_Vendas VALUES (2, 50)''')\n",
    "consulta = cursor.execute(''' INSERT INTO Tabela_Vendas VALUES (2, 200)''')\n",
    "consulta = cursor.execute(''' INSERT INTO Tabela_Vendas VALUES (2, 900)''')\n"
   ]
  },
  {
   "cell_type": "code",
   "execution_count": 38,
   "id": "6d323c69",
   "metadata": {},
   "outputs": [],
   "source": [
    "#venda dos vendendores\n",
    "\n",
    "consulta = cursor.execute(''' INSERT INTO Tabela_Cadastro VALUES (1, \"Eveling Ribeiro\")''')\n",
    "consulta = cursor.execute(''' INSERT INTO Tabela_Cadastro VALUES (2, \"Marcos Ribeiro Jr\")''')"
   ]
  },
  {
   "cell_type": "code",
   "execution_count": 34,
   "id": "50046f3d",
   "metadata": {},
   "outputs": [
    {
     "name": "stdout",
     "output_type": "stream",
     "text": [
      "(1.0, 100.0)\n",
      "(1.0, 200.0)\n",
      "(1.0, 150.0)\n",
      "(2.0, 50.0)\n",
      "(2.0, 200.0)\n",
      "(2.0, 900.0)\n"
     ]
    }
   ],
   "source": [
    "# Verificando\n",
    "consulta = cursor.execute(\n",
    "    ''' \n",
    "    SELECT * FROM Tabela_Vendas\n",
    "    '''\n",
    ").fetchall()\n",
    "\n",
    "for Linha in consulta:\n",
    "    print(Linha)"
   ]
  },
  {
   "cell_type": "code",
   "execution_count": 39,
   "id": "af1eb6a9",
   "metadata": {},
   "outputs": [
    {
     "name": "stdout",
     "output_type": "stream",
     "text": [
      "(1.0, 'Eveling Ribeiro')\n",
      "(2.0, 'Marcos Ribeiro Jr')\n"
     ]
    }
   ],
   "source": [
    "consulta = cursor.execute(''' SELECT * FROM Tabela_Cadastro''').fetchall()\n",
    "\n",
    "for linha in consulta:\n",
    "    print(linha)"
   ]
  },
  {
   "cell_type": "code",
   "execution_count": 36,
   "id": "abdf542e",
   "metadata": {},
   "outputs": [],
   "source": []
  },
  {
   "cell_type": "code",
   "execution_count": null,
   "id": "93bd79f3",
   "metadata": {
    "collapsed": true
   },
   "outputs": [],
   "source": []
  },
  {
   "cell_type": "code",
   "execution_count": null,
   "id": "7df18d72",
   "metadata": {
    "collapsed": true
   },
   "outputs": [],
   "source": []
  },
  {
   "cell_type": "code",
   "execution_count": null,
   "id": "df12b96a",
   "metadata": {
    "collapsed": true
   },
   "outputs": [],
   "source": []
  },
  {
   "cell_type": "code",
   "execution_count": null,
   "id": "00c4ee16",
   "metadata": {
    "collapsed": true
   },
   "outputs": [],
   "source": []
  },
  {
   "cell_type": "code",
   "execution_count": null,
   "id": "10d52584",
   "metadata": {
    "collapsed": true
   },
   "outputs": [],
   "source": []
  },
  {
   "cell_type": "code",
   "execution_count": null,
   "id": "9731c704",
   "metadata": {
    "collapsed": true
   },
   "outputs": [],
   "source": []
  },
  {
   "cell_type": "code",
   "execution_count": null,
   "id": "4a77dba9",
   "metadata": {
    "collapsed": true
   },
   "outputs": [],
   "source": []
  },
  {
   "cell_type": "code",
   "execution_count": null,
   "id": "cdf77351",
   "metadata": {
    "collapsed": true
   },
   "outputs": [],
   "source": []
  }
 ],
 "metadata": {
  "kernelspec": {
   "display_name": "Python 3 (ipykernel)",
   "language": "python",
   "name": "python3"
  },
  "language_info": {
   "codemirror_mode": {
    "name": "ipython",
    "version": 3
   },
   "file_extension": ".py",
   "mimetype": "text/x-python",
   "name": "python",
   "nbconvert_exporter": "python",
   "pygments_lexer": "ipython3",
   "version": "3.9.12"
  }
 },
 "nbformat": 4,
 "nbformat_minor": 5
}
